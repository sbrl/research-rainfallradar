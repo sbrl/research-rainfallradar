{
 "cells": [
  {
   "cell_type": "code",
   "execution_count": 1,
   "id": "1f6fdebf-69c5-46ab-a5a8-f9c91f000ff3",
   "metadata": {},
   "outputs": [
    {
     "name": "stderr",
     "output_type": "stream",
     "text": [
      "2023-01-05 20:04:42.075078: W tensorflow/stream_executor/platform/default/dso_loader.cc:64] Could not load dynamic library 'libcudart.so.11.0'; dlerror: libcudart.so.11.0: cannot open shared object file: No such file or directory\n",
      "2023-01-05 20:04:42.075095: I tensorflow/stream_executor/cuda/cudart_stub.cc:29] Ignore above cudart dlerror if you do not have a GPU set up on your machine.\n"
     ]
    }
   ],
   "source": [
    "import os\n",
    "\n",
    "import tensorflow as tf\n",
    "import matplotlib.pyplot as plt\n",
    "\n",
    "from lib.dataset.parse_heightmap import parse_heightmap\n",
    "from lib.ai.model_rainfallwater_mono import model_rainfallwater_mono\n",
    "from lib.ai.helpers.make_callbacks import make_callbacks\n",
    "from lib.ai.helpers.summarywriter import summarywriter"
   ]
  },
  {
   "cell_type": "code",
   "execution_count": 2,
   "id": "07093079",
   "metadata": {},
   "outputs": [],
   "source": [
    "filepath_heightmap=\"/mnt/research-data/main/terrain50-nimrodsized.json.gz\"\n",
    "\n",
    "dir_output = \"/tmp/x/mono_segment_TEST\"\n",
    "if not os.path.exists(os.path.join(dir_output, \"checkpoints\")):\n",
    "\tos.makedirs(os.path.join(dir_output, \"checkpoints\"))"
   ]
  },
  {
   "cell_type": "code",
   "execution_count": 3,
   "id": "f4466ac9",
   "metadata": {},
   "outputs": [
    {
     "name": "stdout",
     "output_type": "stream",
     "text": [
      "RAINFALL channels 1 width 64 height 64 HEIGHTMAP_INPUT False\n",
      "convnext:shape IN x (None, 64, 64, 1)\n"
     ]
    },
    {
     "name": "stderr",
     "output_type": "stream",
     "text": [
      "2023-01-05 20:04:44.225064: I tensorflow/stream_executor/cuda/cuda_gpu_executor.cc:975] successful NUMA node read from SysFS had negative value (-1), but there must be at least one NUMA node, so returning NUMA node zero\n",
      "2023-01-05 20:04:44.225397: W tensorflow/stream_executor/platform/default/dso_loader.cc:64] Could not load dynamic library 'libcudart.so.11.0'; dlerror: libcudart.so.11.0: cannot open shared object file: No such file or directory\n",
      "2023-01-05 20:04:44.225497: W tensorflow/stream_executor/platform/default/dso_loader.cc:64] Could not load dynamic library 'libcublas.so.11'; dlerror: libcublas.so.11: cannot open shared object file: No such file or directory\n",
      "2023-01-05 20:04:44.225576: W tensorflow/stream_executor/platform/default/dso_loader.cc:64] Could not load dynamic library 'libcublasLt.so.11'; dlerror: libcublasLt.so.11: cannot open shared object file: No such file or directory\n",
      "2023-01-05 20:04:44.225660: W tensorflow/stream_executor/platform/default/dso_loader.cc:64] Could not load dynamic library 'libcufft.so.10'; dlerror: libcufft.so.10: cannot open shared object file: No such file or directory\n",
      "2023-01-05 20:04:44.225731: W tensorflow/stream_executor/platform/default/dso_loader.cc:64] Could not load dynamic library 'libcurand.so.10'; dlerror: libcurand.so.10: cannot open shared object file: No such file or directory\n",
      "2023-01-05 20:04:44.225796: W tensorflow/stream_executor/platform/default/dso_loader.cc:64] Could not load dynamic library 'libcusolver.so.11'; dlerror: libcusolver.so.11: cannot open shared object file: No such file or directory\n",
      "2023-01-05 20:04:44.225861: W tensorflow/stream_executor/platform/default/dso_loader.cc:64] Could not load dynamic library 'libcusparse.so.11'; dlerror: libcusparse.so.11: cannot open shared object file: No such file or directory\n",
      "2023-01-05 20:04:44.225944: W tensorflow/stream_executor/platform/default/dso_loader.cc:64] Could not load dynamic library 'libcudnn.so.8'; dlerror: libcudnn.so.8: cannot open shared object file: No such file or directory\n",
      "2023-01-05 20:04:44.225961: W tensorflow/core/common_runtime/gpu/gpu_device.cc:1850] Cannot dlopen some GPU libraries. Please make sure the missing libraries mentioned above are installed properly if you would like to use GPU. Follow the guide at https://www.tensorflow.org/install/gpu for how to download and setup the required libraries for your platform.\n",
      "Skipping registering GPU devices...\n",
      "2023-01-05 20:04:44.226508: I tensorflow/core/platform/cpu_feature_guard.cc:193] This TensorFlow binary is optimized with oneAPI Deep Neural Network Library (oneDNN) to use the following CPU instructions in performance-critical operations:  AVX2 FMA\n",
      "To enable them in other operations, rebuild TensorFlow with the appropriate compiler flags.\n"
     ]
    },
    {
     "name": "stdout",
     "output_type": "stream",
     "text": [
      "DEBUG:model ENCODER output_shape (None, 512)\n",
      "DEBUG:model BOTTLENECK:stack2image output_shape (None, 4, 4, 512)\n"
     ]
    },
    {
     "name": "stderr",
     "output_type": "stream",
     "text": [
      "2023-01-05 20:04:47.011 | WARNING  | lib.ai.model_rainfallwater_mono:model_rainfallwater_mono:71 - Warning: TODO implement attention from https://ieeexplore.ieee.org/document/9076883\n",
      "2023-01-05 20:04:47.054 | INFO     | lib.ai.model_rainfallwater_mono:model_rainfallwater_mono:86 - learning_rate: 3e-05\n"
     ]
    }
   ],
   "source": [
    "model = model_rainfallwater_mono(\n",
    "\tmetadata={ \"rainfallradar\": [ 1, 64, 64 ] },\n",
    "\tmodel_arch_dec=\"convnext_i_xxtiny\",\n",
    "\tlearning_rate=3e-5\n",
    ")\n",
    "\n",
    "summarywriter(model, filepath_output=os.path.join(dir_output, \"summary.txt\"))"
   ]
  },
  {
   "cell_type": "code",
   "execution_count": 4,
   "id": "78c633e1",
   "metadata": {},
   "outputs": [
    {
     "name": "stdout",
     "output_type": "stream",
     "text": [
      "cells 4096 cells/2 2048.0 shape+ (64, 64) tf.Tensor(1015, shape=(), dtype=int64)\n"
     ]
    }
   ],
   "source": [
    "heightmap = parse_heightmap(filepath_heightmap) / 100\n",
    "heightmap = tf.image.crop_to_bounding_box(tf.expand_dims(heightmap, axis=-1), 0, 0, 64, 64)\n",
    "#heightmap_labels = tf.one_hot(tf.cast(tf.math.greater(tf.squeeze(heightmap)/10, 0.05), dtype=tf.int32), 2)\n",
    "heightmap_labels = tf.cast(tf.math.greater(tf.squeeze(heightmap)/10, 0.05), dtype=tf.int32)\n",
    "\n",
    "dataset = tf.data.Dataset.from_tensor_slices([heightmap_labels]).map(\n",
    "\tlambda tensor: tf.expand_dims(tensor, axis=-1),\n",
    "\tnum_parallel_calls=tf.data.AUTOTUNE\n",
    ")\n",
    "dataset_labels = tf.data.Dataset.from_tensor_slices([heightmap_labels])\n",
    "\n",
    "for item in dataset_labels:\n",
    "\tprint(\"cells\", 64*64, \"cells/2\", (64*64)/2, \"shape+\", item.shape, tf.math.reduce_sum(tf.math.argmax(item, axis=-1)))\n",
    "\tbreak\n",
    "dataset = tf.data.Dataset.zip((dataset, dataset_labels)) \\\n",
    "\t.repeat(64 * 64) \\\n",
    "\t.batch(64) \\\n",
    "\t.prefetch(tf.data.AUTOTUNE)\n"
   ]
  },
  {
   "cell_type": "code",
   "execution_count": 5,
   "id": "3dbc95eb",
   "metadata": {},
   "outputs": [
    {
     "name": "stdout",
     "output_type": "stream",
     "text": [
      "Epoch 1/25\n",
      "64/64 [==============================] - ETA: 0s - loss: 0.0863 - binary_accuracy: 0.5702"
     ]
    },
    {
     "name": "stderr",
     "output_type": "stream",
     "text": [
      "2023-01-05 20:13:58.692 | INFO     | lib.ai.components.CallbackCustomModelCheckpoint:on_epoch_end:12 - Saving checkpoint\n",
      "2023-01-05 20:13:59.282 | INFO     | lib.ai.components.CallbackCustomModelCheckpoint:on_epoch_end:15 - Checkpoint saved successfully\n"
     ]
    },
    {
     "name": "stdout",
     "output_type": "stream",
     "text": [
      "64/64 [==============================] - 552s 8s/step - loss: 0.0863 - binary_accuracy: 0.5702\n",
      "Epoch 2/25\n",
      "64/64 [==============================] - ETA: 0s - loss: -0.1695 - binary_accuracy: 0.5977"
     ]
    },
    {
     "name": "stderr",
     "output_type": "stream",
     "text": [
      "2023-01-05 20:22:53.006 | INFO     | lib.ai.components.CallbackCustomModelCheckpoint:on_epoch_end:12 - Saving checkpoint\n",
      "2023-01-05 20:22:53.575 | INFO     | lib.ai.components.CallbackCustomModelCheckpoint:on_epoch_end:15 - Checkpoint saved successfully\n"
     ]
    },
    {
     "name": "stdout",
     "output_type": "stream",
     "text": [
      "64/64 [==============================] - 534s 8s/step - loss: -0.1695 - binary_accuracy: 0.5977\n",
      "Epoch 3/25\n",
      "64/64 [==============================] - ETA: 0s - loss: -0.1154 - binary_accuracy: 0.5065"
     ]
    },
    {
     "name": "stderr",
     "output_type": "stream",
     "text": [
      "2023-01-05 20:31:46.951 | INFO     | lib.ai.components.CallbackCustomModelCheckpoint:on_epoch_end:12 - Saving checkpoint\n",
      "2023-01-05 20:31:47.518 | INFO     | lib.ai.components.CallbackCustomModelCheckpoint:on_epoch_end:15 - Checkpoint saved successfully\n"
     ]
    },
    {
     "name": "stdout",
     "output_type": "stream",
     "text": [
      "64/64 [==============================] - 534s 8s/step - loss: -0.1154 - binary_accuracy: 0.5065\n",
      "Epoch 4/25\n",
      "64/64 [==============================] - ETA: 0s - loss: -0.2798 - binary_accuracy: 0.4606"
     ]
    },
    {
     "name": "stderr",
     "output_type": "stream",
     "text": [
      "2023-01-05 20:40:40.765 | INFO     | lib.ai.components.CallbackCustomModelCheckpoint:on_epoch_end:12 - Saving checkpoint\n",
      "2023-01-05 20:40:41.338 | INFO     | lib.ai.components.CallbackCustomModelCheckpoint:on_epoch_end:15 - Checkpoint saved successfully\n"
     ]
    },
    {
     "name": "stdout",
     "output_type": "stream",
     "text": [
      "64/64 [==============================] - 534s 8s/step - loss: -0.2798 - binary_accuracy: 0.4606\n",
      "Epoch 5/25\n",
      "64/64 [==============================] - ETA: 0s - loss: -0.0833 - binary_accuracy: 0.4692"
     ]
    },
    {
     "name": "stderr",
     "output_type": "stream",
     "text": [
      "2023-01-05 20:49:34.870 | INFO     | lib.ai.components.CallbackCustomModelCheckpoint:on_epoch_end:12 - Saving checkpoint\n",
      "2023-01-05 20:49:35.429 | INFO     | lib.ai.components.CallbackCustomModelCheckpoint:on_epoch_end:15 - Checkpoint saved successfully\n"
     ]
    },
    {
     "name": "stdout",
     "output_type": "stream",
     "text": [
      "64/64 [==============================] - 534s 8s/step - loss: -0.0833 - binary_accuracy: 0.4692\n",
      "Epoch 6/25\n",
      "64/64 [==============================] - ETA: 0s - loss: 0.0793 - binary_accuracy: 0.5488"
     ]
    },
    {
     "name": "stderr",
     "output_type": "stream",
     "text": [
      "2023-01-05 20:58:26.682 | INFO     | lib.ai.components.CallbackCustomModelCheckpoint:on_epoch_end:12 - Saving checkpoint\n",
      "2023-01-05 20:58:27.245 | INFO     | lib.ai.components.CallbackCustomModelCheckpoint:on_epoch_end:15 - Checkpoint saved successfully\n"
     ]
    },
    {
     "name": "stdout",
     "output_type": "stream",
     "text": [
      "64/64 [==============================] - 532s 8s/step - loss: 0.0793 - binary_accuracy: 0.5488\n",
      "Epoch 7/25\n",
      "64/64 [==============================] - ETA: 0s - loss: 0.0547 - binary_accuracy: 0.5568"
     ]
    },
    {
     "name": "stderr",
     "output_type": "stream",
     "text": [
      "2023-01-05 21:07:17.933 | INFO     | lib.ai.components.CallbackCustomModelCheckpoint:on_epoch_end:12 - Saving checkpoint\n",
      "2023-01-05 21:07:18.495 | INFO     | lib.ai.components.CallbackCustomModelCheckpoint:on_epoch_end:15 - Checkpoint saved successfully\n"
     ]
    },
    {
     "name": "stdout",
     "output_type": "stream",
     "text": [
      "64/64 [==============================] - 531s 8s/step - loss: 0.0547 - binary_accuracy: 0.5568\n",
      "Epoch 8/25\n",
      "64/64 [==============================] - ETA: 0s - loss: 0.0304 - binary_accuracy: 0.5615"
     ]
    },
    {
     "name": "stderr",
     "output_type": "stream",
     "text": [
      "2023-01-05 21:16:09.952 | INFO     | lib.ai.components.CallbackCustomModelCheckpoint:on_epoch_end:12 - Saving checkpoint\n",
      "2023-01-05 21:16:10.519 | INFO     | lib.ai.components.CallbackCustomModelCheckpoint:on_epoch_end:15 - Checkpoint saved successfully\n"
     ]
    },
    {
     "name": "stdout",
     "output_type": "stream",
     "text": [
      "64/64 [==============================] - 532s 8s/step - loss: 0.0304 - binary_accuracy: 0.5615\n",
      "Epoch 9/25\n",
      "64/64 [==============================] - ETA: 0s - loss: 0.0066 - binary_accuracy: 0.5657"
     ]
    },
    {
     "name": "stderr",
     "output_type": "stream",
     "text": [
      "2023-01-05 21:25:03.040 | INFO     | lib.ai.components.CallbackCustomModelCheckpoint:on_epoch_end:12 - Saving checkpoint\n",
      "2023-01-05 21:25:03.614 | INFO     | lib.ai.components.CallbackCustomModelCheckpoint:on_epoch_end:15 - Checkpoint saved successfully\n"
     ]
    },
    {
     "name": "stdout",
     "output_type": "stream",
     "text": [
      "64/64 [==============================] - 533s 8s/step - loss: 0.0066 - binary_accuracy: 0.5657\n",
      "Epoch 10/25\n",
      "64/64 [==============================] - ETA: 0s - loss: -0.0154 - binary_accuracy: 0.5707"
     ]
    },
    {
     "name": "stderr",
     "output_type": "stream",
     "text": [
      "2023-01-05 21:33:57.583 | INFO     | lib.ai.components.CallbackCustomModelCheckpoint:on_epoch_end:12 - Saving checkpoint\n",
      "2023-01-05 21:33:58.155 | INFO     | lib.ai.components.CallbackCustomModelCheckpoint:on_epoch_end:15 - Checkpoint saved successfully\n"
     ]
    },
    {
     "name": "stdout",
     "output_type": "stream",
     "text": [
      "64/64 [==============================] - 535s 8s/step - loss: -0.0154 - binary_accuracy: 0.5707\n",
      "Epoch 11/25\n",
      "64/64 [==============================] - ETA: 0s - loss: -0.0363 - binary_accuracy: 0.5749"
     ]
    },
    {
     "name": "stderr",
     "output_type": "stream",
     "text": [
      "2023-01-05 21:42:52.326 | INFO     | lib.ai.components.CallbackCustomModelCheckpoint:on_epoch_end:12 - Saving checkpoint\n",
      "2023-01-05 21:42:52.898 | INFO     | lib.ai.components.CallbackCustomModelCheckpoint:on_epoch_end:15 - Checkpoint saved successfully\n"
     ]
    },
    {
     "name": "stdout",
     "output_type": "stream",
     "text": [
      "64/64 [==============================] - 535s 8s/step - loss: -0.0363 - binary_accuracy: 0.5749\n",
      "Epoch 12/25\n",
      "64/64 [==============================] - ETA: 0s - loss: -0.0575 - binary_accuracy: 0.5775"
     ]
    },
    {
     "name": "stderr",
     "output_type": "stream",
     "text": [
      "2023-01-05 21:51:46.051 | INFO     | lib.ai.components.CallbackCustomModelCheckpoint:on_epoch_end:12 - Saving checkpoint\n",
      "2023-01-05 21:51:46.627 | INFO     | lib.ai.components.CallbackCustomModelCheckpoint:on_epoch_end:15 - Checkpoint saved successfully\n"
     ]
    },
    {
     "name": "stdout",
     "output_type": "stream",
     "text": [
      "64/64 [==============================] - 534s 8s/step - loss: -0.0575 - binary_accuracy: 0.5775\n",
      "Epoch 13/25\n",
      "64/64 [==============================] - ETA: 0s - loss: -0.0828 - binary_accuracy: 0.5835"
     ]
    },
    {
     "name": "stderr",
     "output_type": "stream",
     "text": [
      "2023-01-05 22:00:40.405 | INFO     | lib.ai.components.CallbackCustomModelCheckpoint:on_epoch_end:12 - Saving checkpoint\n",
      "2023-01-05 22:00:40.971 | INFO     | lib.ai.components.CallbackCustomModelCheckpoint:on_epoch_end:15 - Checkpoint saved successfully\n"
     ]
    },
    {
     "name": "stdout",
     "output_type": "stream",
     "text": [
      "64/64 [==============================] - 534s 8s/step - loss: -0.0828 - binary_accuracy: 0.5835\n",
      "Epoch 14/25\n",
      "64/64 [==============================] - ETA: 0s - loss: -0.1216 - binary_accuracy: 0.5869"
     ]
    },
    {
     "name": "stderr",
     "output_type": "stream",
     "text": [
      "2023-01-05 22:09:34.844 | INFO     | lib.ai.components.CallbackCustomModelCheckpoint:on_epoch_end:12 - Saving checkpoint\n",
      "2023-01-05 22:09:35.418 | INFO     | lib.ai.components.CallbackCustomModelCheckpoint:on_epoch_end:15 - Checkpoint saved successfully\n"
     ]
    },
    {
     "name": "stdout",
     "output_type": "stream",
     "text": [
      "64/64 [==============================] - 534s 8s/step - loss: -0.1216 - binary_accuracy: 0.5869\n",
      "Epoch 15/25\n",
      "64/64 [==============================] - ETA: 0s - loss: -0.1928 - binary_accuracy: 0.5821"
     ]
    },
    {
     "name": "stderr",
     "output_type": "stream",
     "text": [
      "2023-01-05 22:18:28.651 | INFO     | lib.ai.components.CallbackCustomModelCheckpoint:on_epoch_end:12 - Saving checkpoint\n",
      "2023-01-05 22:18:29.219 | INFO     | lib.ai.components.CallbackCustomModelCheckpoint:on_epoch_end:15 - Checkpoint saved successfully\n"
     ]
    },
    {
     "name": "stdout",
     "output_type": "stream",
     "text": [
      "64/64 [==============================] - 534s 8s/step - loss: -0.1928 - binary_accuracy: 0.5821\n",
      "Epoch 16/25\n",
      "64/64 [==============================] - ETA: 0s - loss: -0.2815 - binary_accuracy: 0.5564"
     ]
    },
    {
     "name": "stderr",
     "output_type": "stream",
     "text": [
      "2023-01-05 22:27:23.336 | INFO     | lib.ai.components.CallbackCustomModelCheckpoint:on_epoch_end:12 - Saving checkpoint\n",
      "2023-01-05 22:27:23.906 | INFO     | lib.ai.components.CallbackCustomModelCheckpoint:on_epoch_end:15 - Checkpoint saved successfully\n"
     ]
    },
    {
     "name": "stdout",
     "output_type": "stream",
     "text": [
      "64/64 [==============================] - 535s 8s/step - loss: -0.2815 - binary_accuracy: 0.5564\n",
      "Epoch 17/25\n",
      "64/64 [==============================] - ETA: 0s - loss: -0.2078 - binary_accuracy: 0.4880"
     ]
    },
    {
     "name": "stderr",
     "output_type": "stream",
     "text": [
      "2023-01-05 22:36:18.191 | INFO     | lib.ai.components.CallbackCustomModelCheckpoint:on_epoch_end:12 - Saving checkpoint\n",
      "2023-01-05 22:36:18.761 | INFO     | lib.ai.components.CallbackCustomModelCheckpoint:on_epoch_end:15 - Checkpoint saved successfully\n"
     ]
    },
    {
     "name": "stdout",
     "output_type": "stream",
     "text": [
      "64/64 [==============================] - 535s 8s/step - loss: -0.2078 - binary_accuracy: 0.4880\n",
      "Epoch 18/25\n",
      "64/64 [==============================] - ETA: 0s - loss: -0.2591 - binary_accuracy: 0.4643"
     ]
    },
    {
     "name": "stderr",
     "output_type": "stream",
     "text": [
      "2023-01-05 22:45:13.175 | INFO     | lib.ai.components.CallbackCustomModelCheckpoint:on_epoch_end:12 - Saving checkpoint\n",
      "2023-01-05 22:45:13.744 | INFO     | lib.ai.components.CallbackCustomModelCheckpoint:on_epoch_end:15 - Checkpoint saved successfully\n"
     ]
    },
    {
     "name": "stdout",
     "output_type": "stream",
     "text": [
      "64/64 [==============================] - 535s 8s/step - loss: -0.2591 - binary_accuracy: 0.4643\n",
      "Epoch 19/25\n",
      "64/64 [==============================] - ETA: 0s - loss: -0.4663 - binary_accuracy: 0.4370"
     ]
    },
    {
     "name": "stderr",
     "output_type": "stream",
     "text": [
      "2023-01-05 22:54:08.037 | INFO     | lib.ai.components.CallbackCustomModelCheckpoint:on_epoch_end:12 - Saving checkpoint\n",
      "2023-01-05 22:54:08.624 | INFO     | lib.ai.components.CallbackCustomModelCheckpoint:on_epoch_end:15 - Checkpoint saved successfully\n"
     ]
    },
    {
     "name": "stdout",
     "output_type": "stream",
     "text": [
      "64/64 [==============================] - 535s 8s/step - loss: -0.4663 - binary_accuracy: 0.4370\n",
      "Epoch 20/25\n",
      "64/64 [==============================] - ETA: 0s - loss: 0.0233 - binary_accuracy: 0.5323"
     ]
    },
    {
     "name": "stderr",
     "output_type": "stream",
     "text": [
      "2023-01-05 23:03:03.088 | INFO     | lib.ai.components.CallbackCustomModelCheckpoint:on_epoch_end:12 - Saving checkpoint\n",
      "2023-01-05 23:03:03.655 | INFO     | lib.ai.components.CallbackCustomModelCheckpoint:on_epoch_end:15 - Checkpoint saved successfully\n"
     ]
    },
    {
     "name": "stdout",
     "output_type": "stream",
     "text": [
      "64/64 [==============================] - 535s 8s/step - loss: 0.0233 - binary_accuracy: 0.5323\n",
      "Epoch 21/25\n",
      "64/64 [==============================] - ETA: 0s - loss: 0.0272 - binary_accuracy: 0.5650"
     ]
    },
    {
     "name": "stderr",
     "output_type": "stream",
     "text": [
      "2023-01-05 23:11:57.541 | INFO     | lib.ai.components.CallbackCustomModelCheckpoint:on_epoch_end:12 - Saving checkpoint\n",
      "2023-01-05 23:11:58.301 | INFO     | lib.ai.components.CallbackCustomModelCheckpoint:on_epoch_end:15 - Checkpoint saved successfully\n"
     ]
    },
    {
     "name": "stdout",
     "output_type": "stream",
     "text": [
      "64/64 [==============================] - 535s 8s/step - loss: 0.0272 - binary_accuracy: 0.5650\n",
      "Epoch 22/25\n",
      "64/64 [==============================] - ETA: 0s - loss: 0.0047 - binary_accuracy: 0.5712"
     ]
    },
    {
     "name": "stderr",
     "output_type": "stream",
     "text": [
      "2023-01-05 23:20:52.402 | INFO     | lib.ai.components.CallbackCustomModelCheckpoint:on_epoch_end:12 - Saving checkpoint\n",
      "2023-01-05 23:20:52.969 | INFO     | lib.ai.components.CallbackCustomModelCheckpoint:on_epoch_end:15 - Checkpoint saved successfully\n"
     ]
    },
    {
     "name": "stdout",
     "output_type": "stream",
     "text": [
      "64/64 [==============================] - 535s 8s/step - loss: 0.0047 - binary_accuracy: 0.5712\n",
      "Epoch 23/25\n",
      "64/64 [==============================] - ETA: 0s - loss: -0.0151 - binary_accuracy: 0.5776"
     ]
    },
    {
     "name": "stderr",
     "output_type": "stream",
     "text": [
      "2023-01-05 23:29:46.982 | INFO     | lib.ai.components.CallbackCustomModelCheckpoint:on_epoch_end:12 - Saving checkpoint\n",
      "2023-01-05 23:29:47.558 | INFO     | lib.ai.components.CallbackCustomModelCheckpoint:on_epoch_end:15 - Checkpoint saved successfully\n"
     ]
    },
    {
     "name": "stdout",
     "output_type": "stream",
     "text": [
      "64/64 [==============================] - 535s 8s/step - loss: -0.0151 - binary_accuracy: 0.5776\n",
      "Epoch 24/25\n",
      "64/64 [==============================] - ETA: 0s - loss: -0.0319 - binary_accuracy: 0.5800"
     ]
    },
    {
     "name": "stderr",
     "output_type": "stream",
     "text": [
      "2023-01-05 23:38:40.377 | INFO     | lib.ai.components.CallbackCustomModelCheckpoint:on_epoch_end:12 - Saving checkpoint\n",
      "2023-01-05 23:38:40.948 | INFO     | lib.ai.components.CallbackCustomModelCheckpoint:on_epoch_end:15 - Checkpoint saved successfully\n"
     ]
    },
    {
     "name": "stdout",
     "output_type": "stream",
     "text": [
      "64/64 [==============================] - 533s 8s/step - loss: -0.0319 - binary_accuracy: 0.5800\n",
      "Epoch 25/25\n",
      "64/64 [==============================] - ETA: 0s - loss: -0.0465 - binary_accuracy: 0.5806"
     ]
    },
    {
     "name": "stderr",
     "output_type": "stream",
     "text": [
      "2023-01-05 23:47:34.752 | INFO     | lib.ai.components.CallbackCustomModelCheckpoint:on_epoch_end:12 - Saving checkpoint\n",
      "2023-01-05 23:47:35.313 | INFO     | lib.ai.components.CallbackCustomModelCheckpoint:on_epoch_end:15 - Checkpoint saved successfully\n"
     ]
    },
    {
     "name": "stdout",
     "output_type": "stream",
     "text": [
      "64/64 [==============================] - 534s 8s/step - loss: -0.0465 - binary_accuracy: 0.5806\n"
     ]
    },
    {
     "data": {
      "text/plain": [
       "<keras.callbacks.History at 0x7ff99a33d8a0>"
      ]
     },
     "execution_count": 5,
     "metadata": {},
     "output_type": "execute_result"
    }
   ],
   "source": [
    "model.fit(\n",
    "\tdataset,\n",
    "\tepochs=25,\n",
    "\tcallbacks=make_callbacks(\"/tmp/x/mono_segment_TEST\", model)\n",
    ")"
   ]
  },
  {
   "cell_type": "code",
   "execution_count": 6,
   "id": "b7f8c33f",
   "metadata": {},
   "outputs": [
    {
     "name": "stdout",
     "output_type": "stream",
     "text": [
      "1/1 [==============================] - 2s 2s/step\n",
      "tf.Tensor(\n",
      "[[[1 1 1 ... 1 1 1]\n",
      "  [1 1 1 ... 1 1 1]\n",
      "  [1 1 1 ... 1 1 1]\n",
      "  ...\n",
      "  [0 1 1 ... 1 1 1]\n",
      "  [1 1 1 ... 1 1 1]\n",
      "  [1 1 1 ... 1 1 1]]], shape=(1, 64, 64), dtype=int32)\n",
      "tf.Tensor(3936, shape=(), dtype=int32) tf.Tensor(160, shape=(), dtype=int32)\n",
      "(1, 64, 64)\n",
      "[[[ 6.318168    4.484145    5.098278   ...  2.2153077   4.2120304\n",
      "    3.6126046 ]\n",
      "  [ 6.4958954   5.6199083   6.5477724  ...  1.4242218   3.6372695\n",
      "    4.750148  ]\n",
      "  [ 4.059501    3.8315465   7.3975286  ...  5.0964937   4.767578\n",
      "    2.0836473 ]\n",
      "  ...\n",
      "  [-0.3680715   1.0862777   4.403977   ...  3.2975245   3.878313\n",
      "    1.355243  ]\n",
      "  [ 7.1270704   3.7269826   4.1089396  ...  5.3976045   2.4421794\n",
      "    2.3658426 ]\n",
      "  [ 6.693168    7.6807394   5.613674   ...  0.89391357  3.4751601\n",
      "    3.142672  ]]]\n"
     ]
    },
    {
     "data": {
      "text/plain": [
       "<matplotlib.image.AxesImage at 0x7ff956514f70>"
      ]
     },
     "execution_count": 6,
     "metadata": {},
     "output_type": "execute_result"
    },
    {
     "data": {
      "image/png": "[encoded data removed]",
      "text/plain": [
       "<Figure size 640x480 with 1 Axes>"
      ]
     },
     "metadata": {},
     "output_type": "display_data"
    }
   ],
   "source": [
    "prediction = model.predict(tf.expand_dims(heightmap, axis=0))\n",
    "prediction_binarised = tf.cast(tf.math.greater(prediction, 0.5), dtype=tf.int32)\n",
    "print(prediction_binarised)\n",
    "print(tf.math.reduce_sum(prediction_binarised), (64*64) - tf.math.reduce_sum(prediction_binarised))\n",
    "print(prediction_binarised.shape)\n",
    "print(prediction)\n",
    "plt.imshow(tf.squeeze(prediction_binarised))"
   ]
  }
 ],
 "metadata": {
  "kernelspec": {
   "display_name": "Python 3",
   "language": "python",
   "name": "python3"
  },
  "language_info": {
   "codemirror_mode": {
    "name": "ipython",
    "version": 3
   },
   "file_extension": ".py",
   "mimetype": "text/x-python",
   "name": "python",
   "nbconvert_exporter": "python",
   "pygments_lexer": "ipython3",
   "version": "3.10.6"
  },
  "vscode": {
   "interpreter": {
    "hash": "e7370f93d1d0cde622a1f8e1c04877d8463912d04d973331ad4851f04de6915a"
   }
  }
 },
 "nbformat": 4,
 "nbformat_minor": 5
}
